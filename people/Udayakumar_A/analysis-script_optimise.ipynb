{
 "cells": [
  {
   "attachments": {},
   "cell_type": "markdown",
   "metadata": {},
   "source": [
    "## Environment"
   ]
  },
  {
   "cell_type": "code",
   "execution_count": null,
   "metadata": {},
   "outputs": [],
   "source": [
    "# run in cellpose_2 conda environment (anaconda terminal) in the alien computer\n",
    "import os\n",
    "import time\n",
    "import numpy as np\n",
    "import tifffile\n",
    "import cupy\n",
    "import cupyx.scipy.ndimage\n",
    "\n",
    "import concurrent.futures \n",
    "\n",
    "from skimage.morphology import white_tophat, black_tophat, disk\n",
    "from skimage import io, measure, util, morphology\n",
    "\n",
    "from scipy import ndimage\n",
    "from scipy.sparse import csr matrix\n",
    "\n",
    "from cellpose import models, io\n",
    "from tqdm import tqdm"
   ]
  },
  {
   "attachments": {},
   "cell_type": "markdown",
   "metadata": {},
   "source": [
    "## Read image"
   ]
  },
  {
   "cell_type": "code",
   "execution_count": null,
   "metadata": {},
   "outputs": [],
   "source": [
    "# read image\n",
    "file_name = \"\"\n",
    "img = io.imread(file_name)\n",
    "\n",
    "print(img.shape)\n",
    "print(img.dtype)"
   ]
  },
  {
   "attachments": {},
   "cell_type": "markdown",
   "metadata": {},
   "source": [
    "## Get nuclear masks\n",
    " - Nuclear mask --> for nuclear signal intensities\n",
    " - Dilated nuclear mask --> for cytoplasmic signal intensities"
   ]
  },
  {
   "cell_type": "code",
   "execution_count": null,
   "metadata": {},
   "outputs": [],
   "source": [
    "# - - - - - Nuclear mask\n",
    "\n",
    "## segmentation channel\n",
    "seg_img = img[3, :, :]\n",
    "\n",
    "## cellpose parameters\n",
    "diameter = 30\n",
    "flow_threshold = 0\n",
    "mask_threshold = -6\n",
    "do_3D = True\n",
    "stitch_threshold = 0\n",
    "gpu = True\n",
    "\n",
    "## run cellpose in 3D mode\n",
    "model = models.Cellpose(gpu = gpu, model_type = 'cyto')\n",
    "masks, flows, styles, diams = model.eval(\n",
    "    seg_img, \n",
    "    channels = [0,0], \n",
    "    diameter = diameter, \n",
    "    do_3D = do_3D, \n",
    "    flow_threshold = flow_threshold, \n",
    "    cellprob_threshold = mask_threshold\n",
    "    )\n",
    "\n",
    "# - - - - - Dilated nuclear mask \n",
    "\n",
    "## helper functions\n",
    "def dilate_mask_cupy(segmentation_array, label_id, dilation_iterations):\n",
    "    current_label_id = cupy.where(cupy.array(segmentation_array) == label_id, 1, 0)\n",
    "    dilated = cupyx.scipy.ndimage.binary_dilation(cupy.array(current_label_id), iterations = dilation_iterations)\n",
    "    relabeled_dilated = cupy.where(dilated == 1, label_id, 0)\n",
    "    return(np.array(relabeled_dilated))\n",
    "\n",
    "def dilate_labels_cupy(segmentation, dilation_iterations):\n",
    "    list_of_dilated_masks = list()\n",
    "    regions = measure.regionprops(segmentation)\n",
    "    for i in range(len(regions)):\n",
    "        label_id = regions[i].label\n",
    "        list_of_dilated_masks.append(dilate_mask_cupy(segmentation, label_id, dilation_iterations))\n",
    "    final_array_labelled = sum(list_of_dilated_masks)\n",
    "    return(final_array_labelled)\n",
    "\n",
    "## get dilated mask\n",
    "mask_dilated = dilate_labels_cupy(mask, dilation_iterations = 2)\n",
    "\n",
    "## get doughnut mask\n",
    "mask_doughnut = mask_dilated - mask\n",
    "\n",
    "# - - - - - Save mask images\n",
    "\n",
    "## save mask image\n",
    "mask_output_path = f\"{os.path.basename(file_name)[:-4]}_dia-{diameter}_3D-{do_3D}_stitch-{stitch_threshold}.tif\"\n",
    "io.imsave(mask_output_path, masks)"
   ]
  },
  {
   "attachments": {},
   "cell_type": "markdown",
   "metadata": {},
   "source": [
    "## Calculate fluorescence intensities"
   ]
  },
  {
   "cell_type": "code",
   "execution_count": null,
   "metadata": {},
   "outputs": [],
   "source": [
    "# - - - - - \n"
   ]
  },
  {
   "cell_type": "code",
   "execution_count": null,
   "metadata": {},
   "outputs": [],
   "source": []
  }
 ],
 "metadata": {
  "kernelspec": {
   "display_name": "bigfish_v6",
   "language": "python",
   "name": "python3"
  },
  "language_info": {
   "name": "python",
   "version": "3.9.16"
  },
  "orig_nbformat": 4
 },
 "nbformat": 4,
 "nbformat_minor": 2
}
