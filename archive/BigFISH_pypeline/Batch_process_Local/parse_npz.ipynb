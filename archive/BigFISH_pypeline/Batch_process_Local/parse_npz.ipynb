{
 "cells": [
  {
   "cell_type": "code",
   "execution_count": 1,
   "id": "bf6695f1",
   "metadata": {},
   "outputs": [
    {
     "name": "stdout",
     "output_type": "stream",
     "text": [
      "finished\n"
     ]
    },
    {
     "name": "stderr",
     "output_type": "stream",
     "text": [
      "/opt/miniconda3/envs/bigfish_env/lib/python3.7/site-packages/numpy/core/fromnumeric.py:3441: RuntimeWarning: Mean of empty slice.\n",
      "  out=out, **kwargs)\n",
      "/opt/miniconda3/envs/bigfish_env/lib/python3.7/site-packages/numpy/core/_methods.py:189: RuntimeWarning: invalid value encountered in double_scalars\n",
      "  ret = ret.dtype.type(ret / rcount)\n"
     ]
    }
   ],
   "source": [
    "import os\n",
    "import numpy as np\n",
    "import pandas as pd\n",
    "\n",
    "# build a dataframe from .npz files\n",
    "indir = 'output'\n",
    "infiles = [x for x in os.listdir(indir) if x.endswith('.npz')]\n",
    "\n",
    "# prepare buckets for the data\n",
    "file_name = []\n",
    "channel = []\n",
    "total_RNAs = []\n",
    "cytosolic_RNAs = []\n",
    "foci_count = []\n",
    "mol_per_foci = []\n",
    "    \n",
    "# parse .npz files\n",
    "for file in infiles:\n",
    "    data = np.load(os.path.join(indir, file))\n",
    "    file_name.append(file)\n",
    "    total_RNAs.append(data['rna_coord'].shape[0]+np.sum(data['foci'][:,3]))\n",
    "    cytosolic_RNAs.append(data['rna_coord'].shape[0])\n",
    "    foci_count.append(data['foci'].shape[0])\n",
    "    mol_per_foci.append(np.mean(data['foci'][:,3]))\n",
    "      \n",
    "    if 'ch3' in file:\n",
    "        channel.append('ch3')\n",
    "    if 'ch4' in file:\n",
    "        channel.append('ch4')\n",
    "\n",
    "data_tall = pd.DataFrame(list(zip(file_name, channel, total_RNAs,\n",
    "                            cytosolic_RNAs, foci_count, mol_per_foci)),\n",
    "            columns =['file_name', 'channel', 'total_RNAs',\n",
    "                            'cytosolic_RNAs', 'foci_count', 'mol_per_foci'])\n",
    "data_tall.to_csv('output.csv')\n",
    "print('finished')"
   ]
  },
  {
   "cell_type": "code",
   "execution_count": 2,
   "id": "4f1a21b2",
   "metadata": {},
   "outputs": [
    {
     "data": {
      "text/html": [
       "<div>\n",
       "<style scoped>\n",
       "    .dataframe tbody tr th:only-of-type {\n",
       "        vertical-align: middle;\n",
       "    }\n",
       "\n",
       "    .dataframe tbody tr th {\n",
       "        vertical-align: top;\n",
       "    }\n",
       "\n",
       "    .dataframe thead th {\n",
       "        text-align: right;\n",
       "    }\n",
       "</style>\n",
       "<table border=\"1\" class=\"dataframe\">\n",
       "  <thead>\n",
       "    <tr style=\"text-align: right;\">\n",
       "      <th></th>\n",
       "      <th>file_name</th>\n",
       "      <th>channel</th>\n",
       "      <th>total_RNAs</th>\n",
       "      <th>cytosolic_RNAs</th>\n",
       "      <th>foci_count</th>\n",
       "      <th>mol_per_foci</th>\n",
       "    </tr>\n",
       "  </thead>\n",
       "  <tbody>\n",
       "    <tr>\n",
       "      <th>0</th>\n",
       "      <td>test_ch3_results_cell_3.npz</td>\n",
       "      <td>ch3</td>\n",
       "      <td>402</td>\n",
       "      <td>389</td>\n",
       "      <td>3</td>\n",
       "      <td>4.333333</td>\n",
       "    </tr>\n",
       "    <tr>\n",
       "      <th>1</th>\n",
       "      <td>test_ch3_results_cell_2.npz</td>\n",
       "      <td>ch3</td>\n",
       "      <td>167</td>\n",
       "      <td>167</td>\n",
       "      <td>0</td>\n",
       "      <td>NaN</td>\n",
       "    </tr>\n",
       "    <tr>\n",
       "      <th>2</th>\n",
       "      <td>test_ch3_results_cell_0.npz</td>\n",
       "      <td>ch3</td>\n",
       "      <td>214</td>\n",
       "      <td>205</td>\n",
       "      <td>2</td>\n",
       "      <td>4.500000</td>\n",
       "    </tr>\n",
       "    <tr>\n",
       "      <th>3</th>\n",
       "      <td>test_ch3_results_cell_1.npz</td>\n",
       "      <td>ch3</td>\n",
       "      <td>11</td>\n",
       "      <td>11</td>\n",
       "      <td>0</td>\n",
       "      <td>NaN</td>\n",
       "    </tr>\n",
       "    <tr>\n",
       "      <th>4</th>\n",
       "      <td>test_ch3_results_cell_5.npz</td>\n",
       "      <td>ch3</td>\n",
       "      <td>199</td>\n",
       "      <td>188</td>\n",
       "      <td>2</td>\n",
       "      <td>5.500000</td>\n",
       "    </tr>\n",
       "  </tbody>\n",
       "</table>\n",
       "</div>"
      ],
      "text/plain": [
       "                     file_name channel  total_RNAs  cytosolic_RNAs  \\\n",
       "0  test_ch3_results_cell_3.npz     ch3         402             389   \n",
       "1  test_ch3_results_cell_2.npz     ch3         167             167   \n",
       "2  test_ch3_results_cell_0.npz     ch3         214             205   \n",
       "3  test_ch3_results_cell_1.npz     ch3          11              11   \n",
       "4  test_ch3_results_cell_5.npz     ch3         199             188   \n",
       "\n",
       "   foci_count  mol_per_foci  \n",
       "0           3      4.333333  \n",
       "1           0           NaN  \n",
       "2           2      4.500000  \n",
       "3           0           NaN  \n",
       "4           2      5.500000  "
      ]
     },
     "execution_count": 2,
     "metadata": {},
     "output_type": "execute_result"
    }
   ],
   "source": [
    "data_tall.head(5)"
   ]
  }
 ],
 "metadata": {
  "kernelspec": {
   "display_name": "Python 3 (ipykernel)",
   "language": "python",
   "name": "python3"
  },
  "language_info": {
   "codemirror_mode": {
    "name": "ipython",
    "version": 3
   },
   "file_extension": ".py",
   "mimetype": "text/x-python",
   "name": "python",
   "nbconvert_exporter": "python",
   "pygments_lexer": "ipython3",
   "version": "3.7.12"
  },
  "vscode": {
   "interpreter": {
    "hash": "496b5c86bed5a744d0186162a203b2e83d8fe1bac999fac3e909b2068634c307"
   }
  }
 },
 "nbformat": 4,
 "nbformat_minor": 5
}
