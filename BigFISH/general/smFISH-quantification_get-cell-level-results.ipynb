{
 "cells": [
  {
   "attachments": {},
   "cell_type": "markdown",
   "id": "nasty-resolution",
   "metadata": {},
   "source": [
    "# Notebook for extracting cell level results post-bigfish\n",
    "## Using Big-fish v0.6.2\n",
    "## Revised: 2023.03.22"
   ]
  },
  {
   "cell_type": "code",
   "execution_count": 1,
   "id": "17fd1ebf",
   "metadata": {
    "tags": []
   },
   "outputs": [
    {
     "name": "stdout",
     "output_type": "stream",
     "text": [
      "Big-FISH version: 0.6.2\n"
     ]
    },
    {
     "name": "stderr",
     "output_type": "stream",
     "text": [
      "/opt/miniconda3/envs/bigfish_v6/lib/python3.7/site-packages/bigfish/segmentation/nuc_segmentation.py:16: FutureWarning: The `skimage.morphology.selem` module is deprecated and will be removed in scikit-image 1.0 (`skimage.morphology.selem` has been moved to `skimage.morphology.footprints`).\n",
      "  from skimage.morphology.selem import disk\n"
     ]
    }
   ],
   "source": [
    "import os\n",
    "import time\n",
    "\n",
    "from skimage.measure import regionprops\n",
    "import numpy as np\n",
    "import tifffile\n",
    "import matplotlib.pyplot as plt\n",
    "import pathlib\n",
    "import pandas as pd\n",
    "\n",
    "import bigfish\n",
    "import bigfish.stack as stack\n",
    "import bigfish.multistack as multistack \n",
    "\n",
    "print(\"Big-FISH version: {0}\".format(bigfish.__version__))"
   ]
  },
  {
   "cell_type": "code",
   "execution_count": null,
   "id": "dba3ada5",
   "metadata": {},
   "outputs": [],
   "source": []
  },
  {
   "cell_type": "code",
   "execution_count": null,
   "id": "1f1e3a70",
   "metadata": {},
   "outputs": [],
   "source": [
    "npz_dir = \".\"\n",
    "npz_files = [x for x in os.listdir(npz_dir) if x.endswith('.npz')]\n",
    "mask_dir = \".\"\n",
    "\n",
    "for file in npz_files:\n",
    "\n",
    "    # get bigfish data \n",
    "    data = np.load(os.path.join(npz_dir, file))\n",
    "    spots_post_clustering = data[\"spots_post_clustering\"]\n",
    "    clusters = data[\"clusters\"]\n",
    "    \n",
    "    # get mask image\n",
    "    mask_filename = \"\"\n",
    "    cell_label = tifffile.imread(os.path.join(mask_dir, mask_filename))\n",
    "\n",
    "    #\n",
    "    cells = regionprops(cell_label)\n",
    "    cell_results = {}\n",
    "    for cell in cells:\n",
    "        label = cell.label\n",
    "        cell_results[\"cell_id\"] = label\n",
    "\n"
   ]
  }
 ],
 "metadata": {
  "kernelspec": {
   "display_name": "Python 3 (ipykernel)",
   "language": "python",
   "name": "python3"
  },
  "language_info": {
   "codemirror_mode": {
    "name": "ipython",
    "version": 3
   },
   "file_extension": ".py",
   "mimetype": "text/x-python",
   "name": "python",
   "nbconvert_exporter": "python",
   "pygments_lexer": "ipython3",
   "version": "3.7.12"
  },
  "vscode": {
   "interpreter": {
    "hash": "f49a340d4dac1e5881f81052afae8eb5c7c74f33d1b066be2ccadc9b2fa91ff4"
   }
  }
 },
 "nbformat": 4,
 "nbformat_minor": 5
}
