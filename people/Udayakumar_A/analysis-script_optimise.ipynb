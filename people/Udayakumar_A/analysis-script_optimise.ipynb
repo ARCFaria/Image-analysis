{
 "cells": [
  {
   "cell_type": "code",
   "execution_count": null,
   "metadata": {},
   "outputs": [],
   "source": [
    "# run in cellpose_2 conda environment in the alien computer\n",
    "import os\n",
    "import time\n",
    "import numpy as np\n",
    "import tifffile\n",
    "\n",
    "from skimage.morphology import white_tophat, black_tophat, disk\n",
    "from skimage import io, measure, util, morphology\n",
    "from scipy import ndimage\n",
    "from cellpose import models, io\n",
    "from tqdm import tqdm"
   ]
  },
  {
   "cell_type": "code",
   "execution_count": null,
   "metadata": {},
   "outputs": [],
   "source": [
    "# read image\n",
    "file_name = \"\"\n",
    "img = io.imread(file_name)\n",
    "\n",
    "print(img.shape)\n",
    "print(img.dtype)"
   ]
  },
  {
   "cell_type": "code",
   "execution_count": null,
   "metadata": {},
   "outputs": [],
   "source": [
    "# segment nuclei\n",
    "seg_img = img[3, :, :]\n",
    "\n",
    "## cellpose parameters\n",
    "diameter = 30\n",
    "flow_threshold = 0\n",
    "mask_threshold = -6\n",
    "do_3D = True\n",
    "stitch_threshold = 0\n",
    "gpu = True\n",
    "\n",
    "## run cellpose in 3D mode\n",
    "t1 = time.time()\n",
    "model = models.Cellpose(gpu = gpu, model_type = 'cyto')\n",
    "masks, flows, styles, diams = model.eval(\n",
    "    seg_img, \n",
    "    channels = [0,0], \n",
    "    diameter = diameter, \n",
    "    do_3D = do_3D, \n",
    "    flow_threshold = flow_threshold, \n",
    "    cellprob_threshold = mask_threshold\n",
    "    )\n",
    "t2 = time.time()\n",
    "time_elapsed = (t2 - t1) / 60\n",
    "print('Time spent in current image: %s minutes' % round(time_elapsed,1))\n",
    "\n",
    "## save mask image\n",
    "mask_output_path = f\"{os.path.basename(file_name)[:-4]}_dia-{diameter}_3D-{do_3D}_stitch-{stitch_threshold}.tif\"\n",
    "io.imsave(mask_output_path, masks)\n"
   ]
  },
  {
   "cell_type": "code",
   "execution_count": null,
   "metadata": {},
   "outputs": [],
   "source": [
    "# measure nuclear intensities \n"
   ]
  }
 ],
 "metadata": {
  "kernelspec": {
   "display_name": "bigfish_v6",
   "language": "python",
   "name": "python3"
  },
  "language_info": {
   "name": "python",
   "version": "3.9.16"
  },
  "orig_nbformat": 4
 },
 "nbformat": 4,
 "nbformat_minor": 2
}
